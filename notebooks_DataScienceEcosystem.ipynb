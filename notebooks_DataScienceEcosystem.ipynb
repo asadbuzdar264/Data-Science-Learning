{
  "metadata": {
    "language_info": {
      "codemirror_mode": {
        "name": "python",
        "version": 3
      },
      "file_extension": ".py",
      "mimetype": "text/x-python",
      "name": "python",
      "nbconvert_exporter": "python",
      "pygments_lexer": "ipython3",
      "version": "3.8"
    },
    "kernelspec": {
      "name": "python",
      "display_name": "Python (Pyodide)",
      "language": "python"
    }
  },
  "nbformat_minor": 4,
  "nbformat": 4,
  "cells": [
    {
      "cell_type": "markdown",
      "source": "# Data Science Tools and Ecosystem",
      "metadata": {}
    },
    {
      "cell_type": "markdown",
      "source": "## Here is the introduction",
      "metadata": {}
    },
    {
      "cell_type": "markdown",
      "source": "### List of Data scine Language",
      "metadata": {}
    },
    {
      "cell_type": "markdown",
      "source": "- python\n- R\n- julia\n",
      "metadata": {}
    },
    {
      "cell_type": "markdown",
      "source": "1. java\n2. scala\n3. matlab\n4. JavaScript\n- C++\n- Python\n- SQL",
      "metadata": {}
    },
    {
      "cell_type": "markdown",
      "source": "| Tools  | Date |\n| --- | ---- |\n| Git | 2020 |\n| Appachi | 2003 |\n| atom | 1997 |\n",
      "metadata": {}
    },
    {
      "cell_type": "markdown",
      "source": "### Here Is Heading three\n",
      "metadata": {}
    },
    {
      "cell_type": "code",
      "source": "# This a simple arithmetic expression to mutiply then add integers.\na=(2-33)\nb=(9+1)\na*b",
      "metadata": {
        "trusted": true
      },
      "execution_count": 9,
      "outputs": [
        {
          "execution_count": 9,
          "output_type": "execute_result",
          "data": {
            "text/plain": "-310"
          },
          "metadata": {}
        }
      ]
    },
    {
      "cell_type": "code",
      "source": "a=22\ns=3\na+s\n\n\n",
      "metadata": {
        "trusted": true
      },
      "execution_count": 14,
      "outputs": [
        {
          "execution_count": 14,
          "output_type": "execute_result",
          "data": {
            "text/plain": "25"
          },
          "metadata": {}
        }
      ]
    },
    {
      "cell_type": "code",
      "source": "#This will convert 200 minutes to hours by diving by 60\n\na=200\nb=60\na/b",
      "metadata": {
        "trusted": true
      },
      "execution_count": 17,
      "outputs": [
        {
          "execution_count": 17,
          "output_type": "execute_result",
          "data": {
            "text/plain": "3.3333333333333335"
          },
          "metadata": {}
        }
      ]
    },
    {
      "cell_type": "markdown",
      "source": "__Objective__\n- Java \n- Python\n- Scala\n",
      "metadata": {}
    },
    {
      "cell_type": "markdown",
      "source": "## Author \n__Asad Buzdar__",
      "metadata": {}
    },
    {
      "cell_type": "markdown",
      "source": "# Data Science EcoSystem\n## Data Science LAbraries\n- PANDA\n- JAva\n- Python\n4. Java scripit\n5. Anaconda\n6. Scala\n## Content Table\n\n| Content | Table |\n|-------|--------|\n| Java | Python |\n| AnaConda | JAva |\n\n\n### End Of the Document\n__Author__ _Asad Buzdar_\n",
      "metadata": {}
    },
    {
      "cell_type": "code",
      "source": "",
      "metadata": {},
      "execution_count": null,
      "outputs": []
    }
  ]
}